{
 "cells": [
  {
   "cell_type": "markdown",
   "metadata": {},
   "source": [
    "# Вычисление емкостной размерности"
   ]
  },
  {
   "cell_type": "markdown",
   "metadata": {},
   "source": [
    "## Теория"
   ]
  },
  {
   "cell_type": "markdown",
   "metadata": {},
   "source": [
    "В [статье](https://habrahabr.ru/post/208368/) на хабре отлично и понятно расписана теория. В обчных статьях будут говорить о покрытиях и прочем общем математическом ~~булщите~~ важных вещах."
   ]
  },
  {
   "cell_type": "markdown",
   "metadata": {},
   "source": [
    "Но все же, в чем история? В том, что есть классические целочисленные размерности, а есть _фрактальные_. И они уже имеют непрерывное значение. И, помимо теории, это один из способов получать фичи для клссфикаци тексткурных изображений"
   ]
  },
  {
   "cell_type": "markdown",
   "metadata": {},
   "source": [
    "Вычисляется это дело достаточно просто, если вкурить, что происходит. Пройдем по реализации:"
   ]
  },
  {
   "cell_type": "markdown",
   "metadata": {},
   "source": [
    "## Реализация"
   ]
  },
  {
   "cell_type": "code",
   "execution_count": 59,
   "metadata": {},
   "outputs": [],
   "source": [
    "import numpy as np\n",
    "import matplotlib.pyplot as plt\n",
    "import seaborn as sns\n",
    "import requests\n",
    "import pandas as pd\n",
    "from io import BytesIO\n",
    "from PIL import Image\n",
    "from scipy.ndimage.filters import convolve, maximum_filter\n",
    "from scipy.stats import linregress"
   ]
  },
  {
   "cell_type": "markdown",
   "metadata": {},
   "source": [
    "Загружаем интересующее изображение"
   ]
  },
  {
   "cell_type": "code",
   "execution_count": 49,
   "metadata": {},
   "outputs": [],
   "source": [
    "im = Image.open(BytesIO(requests.get('https://bentrubewriter.files.wordpress.com/2012/04/kochsnowflake400_1.jpg').content))\n",
    "im = im.convert('1')"
   ]
  },
  {
   "cell_type": "code",
   "execution_count": 52,
   "metadata": {},
   "outputs": [
    {
     "data": {
      "image/png": "[encoded data removed]",
      "text/plain": [
       "<PIL.Image.Image image mode=1 size=402x464 at 0x10BC3AA58>"
      ]
     },
     "execution_count": 52,
     "metadata": {},
     "output_type": "execute_result"
    }
   ],
   "source": [
    "im"
   ]
  },
  {
   "cell_type": "code",
   "execution_count": 55,
   "metadata": {},
   "outputs": [],
   "source": [
    "# Создаем матрицу\n",
    "immat = np.array(im, dtype=np.int8)\n",
    "# Меняем черный цвет на 1, а белый на 0\n",
    "immat[immat == 1] = -1\n",
    "immat[immat == 0] = 1\n",
    "immat[immat == -1] = 0"
   ]
  },
  {
   "cell_type": "code",
   "execution_count": 56,
   "metadata": {},
   "outputs": [
    {
     "data": {
      "text/plain": [
       "<matplotlib.image.AxesImage at 0x10b801d68>"
      ]
     },
     "execution_count": 56,
     "metadata": {},
     "output_type": "execute_result"
    },
    {
     "data": {
      "image/png": "[encoded data removed]",
      "text/plain": [
       "<matplotlib.figure.Figure at 0x10ac1ef98>"
      ]
     },
     "metadata": {},
     "output_type": "display_data"
    }
   ],
   "source": [
    "plt.imshow(immat)"
   ]
  },
  {
   "cell_type": "markdown",
   "metadata": {},
   "source": [
    "И дальше самый сок всего этого поцесса"
   ]
  },
  {
   "cell_type": "markdown",
   "metadata": {},
   "source": [
    "|В коде|В теории|\n",
    "|:----:|:------:|\n",
    "| `ws`  |$\\epsilon$|\n",
    "|`ns`|$N(\\epsilon)$|"
   ]
  },
  {
   "cell_type": "code",
   "execution_count": 31,
   "metadata": {},
   "outputs": [],
   "source": [
    "# Задаем размер квадрата, которым будем ходить по изображению\n",
    "ws = range(1, 20)\n",
    "# К-во квадратов, куда попал черный пиксель\n",
    "ns = []\n",
    "for w in ws:\n",
    "    ns.append(np.sum(maximum_filter(immat, (w, w), mode='constant')[::w, ::w]))"
   ]
  },
  {
   "cell_type": "markdown",
   "metadata": {},
   "source": [
    "Чтобы получилась вся красота надо еще взять логарифм от $N(\\epsilon)$ и $\\frac{1}{\\epsilon}$"
   ]
  },
  {
   "cell_type": "code",
   "execution_count": 60,
   "metadata": {},
   "outputs": [
    {
     "data": {
      "text/plain": [
       "<matplotlib.axes._subplots.AxesSubplot at 0x10b3d1550>"
      ]
     },
     "execution_count": 60,
     "metadata": {},
     "output_type": "execute_result"
    },
    {
     "data": {
      "image/png": "[encoded data removed]",
      "text/plain": [
       "<matplotlib.figure.Figure at 0x10b3d1240>"
      ]
     },
     "metadata": {},
     "output_type": "display_data"
    }
   ],
   "source": [
    "x = np.log(1/np.array(ws))\n",
    "y = np.log(ns)\n",
    "\n",
    "sns.regplot(pd.Series(x, name='log of window size (log(ϵ))'), \n",
    "            pd.Series(y, name='log of Num. windows to cover image log(N(ϵ))'),)"
   ]
  },
  {
   "cell_type": "markdown",
   "metadata": {},
   "source": [
    "Затем сторим метод наименьших квадратов и к-т $a$ в модели будет значением емкстной (фрактальной) размерности"
   ]
  },
  {
   "cell_type": "code",
   "execution_count": 61,
   "metadata": {},
   "outputs": [],
   "source": [
    "res = linregress(x, y)"
   ]
  },
  {
   "cell_type": "code",
   "execution_count": 62,
   "metadata": {},
   "outputs": [
    {
     "data": {
      "text/plain": [
       "1.279016137267916"
      ]
     },
     "execution_count": 62,
     "metadata": {},
     "output_type": "execute_result"
    }
   ],
   "source": [
    "res.slope"
   ]
  },
  {
   "cell_type": "markdown",
   "metadata": {},
   "source": [
    "Данное значение соответсвует тому, что приводится в википедии, так что, наверно, все ок)"
   ]
  }
 ],
 "metadata": {
  "kernelspec": {
   "display_name": "Python 3",
   "language": "python",
   "name": "python3"
  },
  "language_info": {
   "codemirror_mode": {
    "name": "ipython",
    "version": 3
   },
   "file_extension": ".py",
   "mimetype": "text/x-python",
   "name": "python",
   "nbconvert_exporter": "python",
   "pygments_lexer": "ipython3",
   "version": "3.6.4"
  }
 },
 "nbformat": 4,
 "nbformat_minor": 2
}
